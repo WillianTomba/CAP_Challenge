{
 "cells": [
  {
   "cell_type": "code",
   "execution_count": 29,
   "metadata": {},
   "outputs": [],
   "source": [
    "import pandas as pd\n",
    "import ast\n",
    "\n",
    "# Carregar o arquivo CSV\n",
    "file_path = 'match_data.csv'\n",
    "df = pd.read_csv(file_path)\n",
    "\n",
    "# Verificar as primeiras linhas do DataFrame\n",
    "#print(df.head())\n"
   ]
  },
  {
   "cell_type": "code",
   "execution_count": 30,
   "metadata": {},
   "outputs": [
    {
     "data": {
      "text/html": [
       "<div>\n",
       "<style scoped>\n",
       "    .dataframe tbody tr th:only-of-type {\n",
       "        vertical-align: middle;\n",
       "    }\n",
       "\n",
       "    .dataframe tbody tr th {\n",
       "        vertical-align: top;\n",
       "    }\n",
       "\n",
       "    .dataframe thead th {\n",
       "        text-align: right;\n",
       "    }\n",
       "</style>\n",
       "<table border=\"1\" class=\"dataframe\">\n",
       "  <thead>\n",
       "    <tr style=\"text-align: right;\">\n",
       "      <th></th>\n",
       "      <th>matchID</th>\n",
       "      <th>matchDateTime</th>\n",
       "      <th>timeZoneID</th>\n",
       "      <th>leagueId</th>\n",
       "      <th>leagueName</th>\n",
       "      <th>leagueSeason</th>\n",
       "      <th>leagueShortcut</th>\n",
       "      <th>matchDateTimeUTC</th>\n",
       "      <th>group</th>\n",
       "      <th>team1</th>\n",
       "      <th>team2</th>\n",
       "      <th>lastUpdateDateTime</th>\n",
       "      <th>matchIsFinished</th>\n",
       "      <th>matchResults</th>\n",
       "      <th>goals</th>\n",
       "      <th>location</th>\n",
       "      <th>numberOfViewers</th>\n",
       "    </tr>\n",
       "  </thead>\n",
       "  <tbody>\n",
       "    <tr>\n",
       "      <th>7</th>\n",
       "      <td>67298</td>\n",
       "      <td>2023-07-22T11:30:00</td>\n",
       "      <td>W. Europe Standard Time</td>\n",
       "      <td>4640</td>\n",
       "      <td>FIFA Women´s World Cup 2023</td>\n",
       "      <td>2023</td>\n",
       "      <td>wwc</td>\n",
       "      <td>2023-07-22T09:30:00Z</td>\n",
       "      <td>{'groupName': 'Group Matches 1', 'groupOrderID...</td>\n",
       "      <td>{'teamId': 6045, 'teamName': 'England Frauen',...</td>\n",
       "      <td>{'teamId': 6047, 'teamName': 'Haiti Frauen', '...</td>\n",
       "      <td>2023-10-05T22:12:25.657</td>\n",
       "      <td>True</td>\n",
       "      <td>[{'resultID': 103109, 'resultName': 'Halbzeit'...</td>\n",
       "      <td>[{'goalID': 102029, 'scoreTeam1': 1, 'scoreTea...</td>\n",
       "      <td>NaN</td>\n",
       "      <td>NaN</td>\n",
       "    </tr>\n",
       "  </tbody>\n",
       "</table>\n",
       "</div>"
      ],
      "text/plain": [
       "   matchID        matchDateTime               timeZoneID  leagueId  \\\n",
       "7    67298  2023-07-22T11:30:00  W. Europe Standard Time      4640   \n",
       "\n",
       "                    leagueName  leagueSeason leagueShortcut  \\\n",
       "7  FIFA Women´s World Cup 2023          2023            wwc   \n",
       "\n",
       "       matchDateTimeUTC                                              group  \\\n",
       "7  2023-07-22T09:30:00Z  {'groupName': 'Group Matches 1', 'groupOrderID...   \n",
       "\n",
       "                                               team1  \\\n",
       "7  {'teamId': 6045, 'teamName': 'England Frauen',...   \n",
       "\n",
       "                                               team2       lastUpdateDateTime  \\\n",
       "7  {'teamId': 6047, 'teamName': 'Haiti Frauen', '...  2023-10-05T22:12:25.657   \n",
       "\n",
       "   matchIsFinished                                       matchResults  \\\n",
       "7             True  [{'resultID': 103109, 'resultName': 'Halbzeit'...   \n",
       "\n",
       "                                               goals  location  \\\n",
       "7  [{'goalID': 102029, 'scoreTeam1': 1, 'scoreTea...       NaN   \n",
       "\n",
       "   numberOfViewers  \n",
       "7              NaN  "
      ]
     },
     "execution_count": 30,
     "metadata": {},
     "output_type": "execute_result"
    }
   ],
   "source": [
    "# Filtrar a linha com o matchID específico\n",
    "match_id = 67298\n",
    "sample_match = df.loc[df['matchID'] == match_id]\n",
    "sample_match"
   ]
  },
  {
   "cell_type": "code",
   "execution_count": 27,
   "metadata": {},
   "outputs": [
    {
     "name": "stdout",
     "output_type": "stream",
     "text": [
      "matchID: 52    67512\n",
      "Name: matchID, dtype: int64\n",
      "Team1: 52    {'teamId': 6045, 'teamName': 'England Frauen',...\n",
      "Name: team1, dtype: object\n",
      "Team2: 52    {'teamId': 6037, 'teamName': 'Nigeria Frauen',...\n",
      "Name: team2, dtype: object\n",
      "MatchResults: 52    [{'resultID': 103271, 'resultName': 'Halbzeit'...\n",
      "Name: matchResults, dtype: object\n",
      "Goals: 52    [{'goalID': 102270, 'scoreTeam1': 0, 'scoreTea...\n",
      "Name: goals, dtype: object\n"
     ]
    },
    {
     "data": {
      "text/html": [
       "<div>\n",
       "<style scoped>\n",
       "    .dataframe tbody tr th:only-of-type {\n",
       "        vertical-align: middle;\n",
       "    }\n",
       "\n",
       "    .dataframe tbody tr th {\n",
       "        vertical-align: top;\n",
       "    }\n",
       "\n",
       "    .dataframe thead th {\n",
       "        text-align: right;\n",
       "    }\n",
       "</style>\n",
       "<table border=\"1\" class=\"dataframe\">\n",
       "  <thead>\n",
       "    <tr style=\"text-align: right;\">\n",
       "      <th></th>\n",
       "      <th>matchID</th>\n",
       "      <th>matchDateTime</th>\n",
       "      <th>timeZoneID</th>\n",
       "      <th>leagueId</th>\n",
       "      <th>leagueName</th>\n",
       "      <th>leagueSeason</th>\n",
       "      <th>leagueShortcut</th>\n",
       "      <th>matchDateTimeUTC</th>\n",
       "      <th>group</th>\n",
       "      <th>team1</th>\n",
       "      <th>team2</th>\n",
       "      <th>lastUpdateDateTime</th>\n",
       "      <th>matchIsFinished</th>\n",
       "      <th>matchResults</th>\n",
       "      <th>goals</th>\n",
       "      <th>location</th>\n",
       "      <th>numberOfViewers</th>\n",
       "    </tr>\n",
       "  </thead>\n",
       "  <tbody>\n",
       "    <tr>\n",
       "      <th>52</th>\n",
       "      <td>67512</td>\n",
       "      <td>2023-08-07T09:30:00</td>\n",
       "      <td>W. Europe Standard Time</td>\n",
       "      <td>4640</td>\n",
       "      <td>FIFA Women´s World Cup 2023</td>\n",
       "      <td>2023</td>\n",
       "      <td>wwc</td>\n",
       "      <td>2023-08-07T07:30:00Z</td>\n",
       "      <td>{'groupName': 'Round of 16', 'groupOrderID': 4...</td>\n",
       "      <td>{'teamId': 6045, 'teamName': 'England Frauen',...</td>\n",
       "      <td>{'teamId': 6037, 'teamName': 'Nigeria Frauen',...</td>\n",
       "      <td>2023-10-05T22:12:25.607</td>\n",
       "      <td>True</td>\n",
       "      <td>[{'resultID': 103271, 'resultName': 'Halbzeit'...</td>\n",
       "      <td>[{'goalID': 102270, 'scoreTeam1': 0, 'scoreTea...</td>\n",
       "      <td>NaN</td>\n",
       "      <td>NaN</td>\n",
       "    </tr>\n",
       "  </tbody>\n",
       "</table>\n",
       "</div>"
      ],
      "text/plain": [
       "    matchID        matchDateTime               timeZoneID  leagueId  \\\n",
       "52    67512  2023-08-07T09:30:00  W. Europe Standard Time      4640   \n",
       "\n",
       "                     leagueName  leagueSeason leagueShortcut  \\\n",
       "52  FIFA Women´s World Cup 2023          2023            wwc   \n",
       "\n",
       "        matchDateTimeUTC                                              group  \\\n",
       "52  2023-08-07T07:30:00Z  {'groupName': 'Round of 16', 'groupOrderID': 4...   \n",
       "\n",
       "                                                team1  \\\n",
       "52  {'teamId': 6045, 'teamName': 'England Frauen',...   \n",
       "\n",
       "                                                team2  \\\n",
       "52  {'teamId': 6037, 'teamName': 'Nigeria Frauen',...   \n",
       "\n",
       "         lastUpdateDateTime  matchIsFinished  \\\n",
       "52  2023-10-05T22:12:25.607             True   \n",
       "\n",
       "                                         matchResults  \\\n",
       "52  [{'resultID': 103271, 'resultName': 'Halbzeit'...   \n",
       "\n",
       "                                                goals  location  \\\n",
       "52  [{'goalID': 102270, 'scoreTeam1': 0, 'scoreTea...       NaN   \n",
       "\n",
       "    numberOfViewers  \n",
       "52              NaN  "
      ]
     },
     "execution_count": 27,
     "metadata": {},
     "output_type": "execute_result"
    }
   ],
   "source": [
    "# Escolher uma linha específica para depuração\n",
    "match_id = 67512\n",
    "sample_match = df.loc[df['matchID'] == match_id]\n",
    "#sample_match = df.iloc[0]  # Altere o índice para a linha desejada\n",
    "\n",
    "# Verificar os dados dessa linha\n",
    "print(\"matchID:\", sample_match['matchID'])\n",
    "print(\"Team1:\", sample_match['team1'])\n",
    "print(\"Team2:\", sample_match['team2'])\n",
    "print(\"MatchResults:\", sample_match['matchResults'])\n",
    "print(\"Goals:\", sample_match['goals'])\n",
    "\n",
    "sample_match"
   ]
  },
  {
   "cell_type": "code",
   "execution_count": 28,
   "metadata": {},
   "outputs": [
    {
     "ename": "ValueError",
     "evalue": "malformed node or string: 52    {'teamId': 6045, 'teamName': 'England Frauen',...\nName: team1, dtype: object",
     "output_type": "error",
     "traceback": [
      "\u001b[1;31m---------------------------------------------------------------------------\u001b[0m",
      "\u001b[1;31mValueError\u001b[0m                                Traceback (most recent call last)",
      "Cell \u001b[1;32mIn[28], line 2\u001b[0m\n\u001b[0;32m      1\u001b[0m \u001b[38;5;66;03m# Converter as strings JSON para dicionários\u001b[39;00m\n\u001b[1;32m----> 2\u001b[0m team1 \u001b[38;5;241m=\u001b[39m \u001b[43mast\u001b[49m\u001b[38;5;241;43m.\u001b[39;49m\u001b[43mliteral_eval\u001b[49m\u001b[43m(\u001b[49m\u001b[43msample_match\u001b[49m\u001b[43m[\u001b[49m\u001b[38;5;124;43m'\u001b[39;49m\u001b[38;5;124;43mteam1\u001b[39;49m\u001b[38;5;124;43m'\u001b[39;49m\u001b[43m]\u001b[49m\u001b[43m)\u001b[49m\n\u001b[0;32m      3\u001b[0m team2 \u001b[38;5;241m=\u001b[39m ast\u001b[38;5;241m.\u001b[39mliteral_eval(sample_match[\u001b[38;5;124m'\u001b[39m\u001b[38;5;124mteam2\u001b[39m\u001b[38;5;124m'\u001b[39m])\n\u001b[0;32m      4\u001b[0m match_results \u001b[38;5;241m=\u001b[39m ast\u001b[38;5;241m.\u001b[39mliteral_eval(sample_match[\u001b[38;5;124m'\u001b[39m\u001b[38;5;124mmatchResults\u001b[39m\u001b[38;5;124m'\u001b[39m])\n",
      "File \u001b[1;32mC:\\Program Files\\Python312\\Lib\\ast.py:112\u001b[0m, in \u001b[0;36mliteral_eval\u001b[1;34m(node_or_string)\u001b[0m\n\u001b[0;32m    110\u001b[0m                 \u001b[38;5;28;01mreturn\u001b[39;00m left \u001b[38;5;241m-\u001b[39m right\n\u001b[0;32m    111\u001b[0m     \u001b[38;5;28;01mreturn\u001b[39;00m _convert_signed_num(node)\n\u001b[1;32m--> 112\u001b[0m \u001b[38;5;28;01mreturn\u001b[39;00m \u001b[43m_convert\u001b[49m\u001b[43m(\u001b[49m\u001b[43mnode_or_string\u001b[49m\u001b[43m)\u001b[49m\n",
      "File \u001b[1;32mC:\\Program Files\\Python312\\Lib\\ast.py:111\u001b[0m, in \u001b[0;36mliteral_eval.<locals>._convert\u001b[1;34m(node)\u001b[0m\n\u001b[0;32m    109\u001b[0m         \u001b[38;5;28;01melse\u001b[39;00m:\n\u001b[0;32m    110\u001b[0m             \u001b[38;5;28;01mreturn\u001b[39;00m left \u001b[38;5;241m-\u001b[39m right\n\u001b[1;32m--> 111\u001b[0m \u001b[38;5;28;01mreturn\u001b[39;00m \u001b[43m_convert_signed_num\u001b[49m\u001b[43m(\u001b[49m\u001b[43mnode\u001b[49m\u001b[43m)\u001b[49m\n",
      "File \u001b[1;32mC:\\Program Files\\Python312\\Lib\\ast.py:85\u001b[0m, in \u001b[0;36mliteral_eval.<locals>._convert_signed_num\u001b[1;34m(node)\u001b[0m\n\u001b[0;32m     83\u001b[0m     \u001b[38;5;28;01melse\u001b[39;00m:\n\u001b[0;32m     84\u001b[0m         \u001b[38;5;28;01mreturn\u001b[39;00m \u001b[38;5;241m-\u001b[39m operand\n\u001b[1;32m---> 85\u001b[0m \u001b[38;5;28;01mreturn\u001b[39;00m \u001b[43m_convert_num\u001b[49m\u001b[43m(\u001b[49m\u001b[43mnode\u001b[49m\u001b[43m)\u001b[49m\n",
      "File \u001b[1;32mC:\\Program Files\\Python312\\Lib\\ast.py:76\u001b[0m, in \u001b[0;36mliteral_eval.<locals>._convert_num\u001b[1;34m(node)\u001b[0m\n\u001b[0;32m     74\u001b[0m \u001b[38;5;28;01mdef\u001b[39;00m \u001b[38;5;21m_convert_num\u001b[39m(node):\n\u001b[0;32m     75\u001b[0m     \u001b[38;5;28;01mif\u001b[39;00m \u001b[38;5;129;01mnot\u001b[39;00m \u001b[38;5;28misinstance\u001b[39m(node, Constant) \u001b[38;5;129;01mor\u001b[39;00m \u001b[38;5;28mtype\u001b[39m(node\u001b[38;5;241m.\u001b[39mvalue) \u001b[38;5;129;01mnot\u001b[39;00m \u001b[38;5;129;01min\u001b[39;00m (\u001b[38;5;28mint\u001b[39m, \u001b[38;5;28mfloat\u001b[39m, \u001b[38;5;28mcomplex\u001b[39m):\n\u001b[1;32m---> 76\u001b[0m         \u001b[43m_raise_malformed_node\u001b[49m\u001b[43m(\u001b[49m\u001b[43mnode\u001b[49m\u001b[43m)\u001b[49m\n\u001b[0;32m     77\u001b[0m     \u001b[38;5;28;01mreturn\u001b[39;00m node\u001b[38;5;241m.\u001b[39mvalue\n",
      "File \u001b[1;32mC:\\Program Files\\Python312\\Lib\\ast.py:73\u001b[0m, in \u001b[0;36mliteral_eval.<locals>._raise_malformed_node\u001b[1;34m(node)\u001b[0m\n\u001b[0;32m     71\u001b[0m \u001b[38;5;28;01mif\u001b[39;00m lno \u001b[38;5;241m:=\u001b[39m \u001b[38;5;28mgetattr\u001b[39m(node, \u001b[38;5;124m'\u001b[39m\u001b[38;5;124mlineno\u001b[39m\u001b[38;5;124m'\u001b[39m, \u001b[38;5;28;01mNone\u001b[39;00m):\n\u001b[0;32m     72\u001b[0m     msg \u001b[38;5;241m+\u001b[39m\u001b[38;5;241m=\u001b[39m \u001b[38;5;124mf\u001b[39m\u001b[38;5;124m'\u001b[39m\u001b[38;5;124m on line \u001b[39m\u001b[38;5;132;01m{\u001b[39;00mlno\u001b[38;5;132;01m}\u001b[39;00m\u001b[38;5;124m'\u001b[39m\n\u001b[1;32m---> 73\u001b[0m \u001b[38;5;28;01mraise\u001b[39;00m \u001b[38;5;167;01mValueError\u001b[39;00m(msg \u001b[38;5;241m+\u001b[39m \u001b[38;5;124mf\u001b[39m\u001b[38;5;124m'\u001b[39m\u001b[38;5;124m: \u001b[39m\u001b[38;5;132;01m{\u001b[39;00mnode\u001b[38;5;132;01m!r}\u001b[39;00m\u001b[38;5;124m'\u001b[39m)\n",
      "\u001b[1;31mValueError\u001b[0m: malformed node or string: 52    {'teamId': 6045, 'teamName': 'England Frauen',...\nName: team1, dtype: object"
     ]
    }
   ],
   "source": [
    "# Converter as strings JSON para dicionários\n",
    "team1 = ast.literal_eval(sample_match['team1'])\n",
    "team2 = ast.literal_eval(sample_match['team2'])\n",
    "match_results = ast.literal_eval(sample_match['matchResults'])\n",
    "goals = ast.literal_eval(sample_match['goals'])\n",
    "\n",
    "# Exibir os dicionários convertidos\n",
    "print(\"Team1 JSON:\", team1)\n",
    "print(\"Team2 JSON:\", team2)\n",
    "print(\"MatchResults JSON:\", match_results)\n",
    "print(\"Goals JSON:\", goals)\n"
   ]
  },
  {
   "cell_type": "code",
   "execution_count": 5,
   "metadata": {},
   "outputs": [
    {
     "name": "stdout",
     "output_type": "stream",
     "text": [
      "Gols: Neuseeland Frauen - 1, Norwegen Frauen - 0\n"
     ]
    }
   ],
   "source": [
    "# Encontrar o resultado final no array de resultados\n",
    "final_result = [result for result in match_results if result['resultName'] == 'Endergebnis'][0]\n",
    "goals1 = final_result['pointsTeam1'] - final_result.get('PointsTeam1Penalty', 0)\n",
    "goals2 = final_result['pointsTeam2'] - final_result.get('PointsTeam2Penalty', 0)\n",
    "\n",
    "# Exibir os resultados dos gols\n",
    "print(f\"Gols: {team1['teamName']} - {goals1}, {team2['teamName']} - {goals2}\")\n"
   ]
  },
  {
   "cell_type": "code",
   "execution_count": 6,
   "metadata": {},
   "outputs": [
    {
     "name": "stdout",
     "output_type": "stream",
     "text": [
      "Total de gols até agora: Neuseeland Frauen - 1, Norwegen Frauen - 0\n"
     ]
    }
   ],
   "source": [
    "# Inicializar dicionário para armazenar os gols por equipe\n",
    "goals_by_team = {}\n",
    "\n",
    "# Atualizar o dicionário com os gols\n",
    "if team1['teamName'] not in goals_by_team:\n",
    "    goals_by_team[team1['teamName']] = 0\n",
    "if team2['teamName'] not in goals_by_team:\n",
    "    goals_by_team[team2['teamName']] = 0\n",
    "\n",
    "goals_by_team[team1['teamName']] += goals1\n",
    "goals_by_team[team2['teamName']] += goals2\n",
    "\n",
    "# Exibir o total de gols acumulados até agora\n",
    "print(f\"Total de gols até agora: {team1['teamName']} - {goals_by_team[team1['teamName']]}, {team2['teamName']} - {goals_by_team[team2['teamName']]}\")\n"
   ]
  }
 ],
 "metadata": {
  "kernelspec": {
   "display_name": "env",
   "language": "python",
   "name": "python3"
  },
  "language_info": {
   "codemirror_mode": {
    "name": "ipython",
    "version": 3
   },
   "file_extension": ".py",
   "mimetype": "text/x-python",
   "name": "python",
   "nbconvert_exporter": "python",
   "pygments_lexer": "ipython3",
   "version": "3.12.4"
  }
 },
 "nbformat": 4,
 "nbformat_minor": 2
}
