{
 "cells": [
  {
   "cell_type": "code",
   "execution_count": 8,
   "metadata": {},
   "outputs": [],
   "source": [
    "import pandas as pd\n",
    "\n",
    "# Carregar o arquivo CSV\n",
    "file_path = 'match_data.csv'\n",
    "df = pd.read_csv(file_path)\n"
   ]
  },
  {
   "cell_type": "code",
   "execution_count": 9,
   "metadata": {},
   "outputs": [],
   "source": [
    "import ast\n",
    "\n",
    "# Função para verificar se 'Group Matches' não está no 'groupName'\n",
    "def filter_group(group_str):\n",
    "    try:\n",
    "        group_dict = ast.literal_eval(group_str)\n",
    "        return 'Group Matches' not in group_dict['groupName']\n",
    "    except (ValueError, KeyError):\n",
    "        return False\n"
   ]
  },
  {
   "cell_type": "code",
   "execution_count": 10,
   "metadata": {},
   "outputs": [
    {
     "name": "stdout",
     "output_type": "stream",
     "text": [
      "    matchID        matchDateTime               timeZoneID  leagueId  \\\n",
      "48    67514  2023-08-05T07:00:00  W. Europe Standard Time      4640   \n",
      "49    67515  2023-08-05T10:00:00  W. Europe Standard Time      4640   \n",
      "50    67516  2023-08-06T04:00:00  W. Europe Standard Time      4640   \n",
      "51    67517  2023-08-06T11:00:00  W. Europe Standard Time      4640   \n",
      "52    67512  2023-08-07T09:30:00  W. Europe Standard Time      4640   \n",
      "\n",
      "                     leagueName  leagueSeason leagueShortcut  \\\n",
      "48  FIFA Women´s World Cup 2023          2023            wwc   \n",
      "49  FIFA Women´s World Cup 2023          2023            wwc   \n",
      "50  FIFA Women´s World Cup 2023          2023            wwc   \n",
      "51  FIFA Women´s World Cup 2023          2023            wwc   \n",
      "52  FIFA Women´s World Cup 2023          2023            wwc   \n",
      "\n",
      "        matchDateTimeUTC                                              group  \\\n",
      "48  2023-08-05T05:00:00Z  {'groupName': 'Round of 16', 'groupOrderID': 4...   \n",
      "49  2023-08-05T08:00:00Z  {'groupName': 'Round of 16', 'groupOrderID': 4...   \n",
      "50  2023-08-06T02:00:00Z  {'groupName': 'Round of 16', 'groupOrderID': 4...   \n",
      "51  2023-08-06T09:00:00Z  {'groupName': 'Round of 16', 'groupOrderID': 4...   \n",
      "52  2023-08-07T07:30:00Z  {'groupName': 'Round of 16', 'groupOrderID': 4...   \n",
      "\n",
      "                                                team1  \\\n",
      "48  {'teamId': 6034, 'teamName': 'Schweiz Frauen',...   \n",
      "49  {'teamId': 6050, 'teamName': 'Japan Frauen', '...   \n",
      "50  {'teamId': 6053, 'teamName': 'Niederlande Frau...   \n",
      "51  {'teamId': 6058, 'teamName': 'Schweden Frauen'...   \n",
      "52  {'teamId': 6045, 'teamName': 'England Frauen',...   \n",
      "\n",
      "                                                team2  \\\n",
      "48  {'teamId': 6057, 'teamName': 'Spanien Frauen',...   \n",
      "49  {'teamId': 6032, 'teamName': 'Norwegen Frauen'...   \n",
      "50  {'teamId': 6056, 'teamName': 'Südafrika Frauen...   \n",
      "51  {'teamId': 6059, 'teamName': 'USA Frauen', 'sh...   \n",
      "52  {'teamId': 6037, 'teamName': 'Nigeria Frauen',...   \n",
      "\n",
      "         lastUpdateDateTime  matchIsFinished  \\\n",
      "48  2023-10-05T22:12:25.923             True   \n",
      "49  2023-10-05T22:12:25.727             True   \n",
      "50  2023-10-05T22:12:25.883             True   \n",
      "51   2023-10-05T22:12:25.98             True   \n",
      "52  2023-10-05T22:12:25.607             True   \n",
      "\n",
      "                                         matchResults  \\\n",
      "48  [{'resultID': 103231, 'resultName': 'Halbzeit'...   \n",
      "49  [{'resultID': 103233, 'resultName': 'Halbzeit'...   \n",
      "50  [{'resultID': 103249, 'resultName': 'Halbzeit'...   \n",
      "51  [{'resultID': 103251, 'resultName': 'Halbzeit'...   \n",
      "52  [{'resultID': 103271, 'resultName': 'Halbzeit'...   \n",
      "\n",
      "                                                goals  location  \\\n",
      "48  [{'goalID': 102202, 'scoreTeam1': 0, 'scoreTea...       NaN   \n",
      "49  [{'goalID': 102208, 'scoreTeam1': 1, 'scoreTea...       NaN   \n",
      "50  [{'goalID': 102230, 'scoreTeam1': 1, 'scoreTea...       NaN   \n",
      "51  [{'goalID': 102263, 'scoreTeam1': 2, 'scoreTea...       NaN   \n",
      "52  [{'goalID': 102270, 'scoreTeam1': 0, 'scoreTea...       NaN   \n",
      "\n",
      "    numberOfViewers  \n",
      "48              NaN  \n",
      "49              NaN  \n",
      "50              NaN  \n",
      "51              NaN  \n",
      "52              NaN  \n"
     ]
    }
   ],
   "source": [
    "# Aplicar a função de filtro no DataFrame\n",
    "filtered_df = df[df['group'].apply(filter_group)]\n",
    "\n",
    "# Verificar as primeiras linhas do DataFrame filtrado\n",
    "print(filtered_df.head())\n",
    "\n",
    "filtered_df.to_csv(\"goals_by_team_filtered.csv\", index=False)\n"
   ]
  }
 ],
 "metadata": {
  "kernelspec": {
   "display_name": "env",
   "language": "python",
   "name": "python3"
  },
  "language_info": {
   "codemirror_mode": {
    "name": "ipython",
    "version": 3
   },
   "file_extension": ".py",
   "mimetype": "text/x-python",
   "name": "python",
   "nbconvert_exporter": "python",
   "pygments_lexer": "ipython3",
   "version": "3.12.4"
  }
 },
 "nbformat": 4,
 "nbformat_minor": 2
}
