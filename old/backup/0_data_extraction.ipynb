{
 "cells": [
  {
   "cell_type": "code",
   "execution_count": null,
   "metadata": {},
   "outputs": [],
   "source": [
    "import requests\n",
    "import pandas as pd\n",
    "\n",
    "# URL da API\n",
    "url = \"https://api.openligadb.de/getmatchdata/wwc/2023\"\n",
    "\n",
    "# Fazendo a requisição para a API\n",
    "response = requests.get(url)\n",
    "\n",
    "# Verificando se a requisição foi bem-sucedida\n",
    "if response.status_code == 200:\n",
    "    data = response.json()\n",
    "    print(\"Dados extraídos com sucesso!\")\n",
    "else:\n",
    "    print(f\"Erro na requisição: {response.status_code}\")\n",
    "    data = []\n",
    "\n",
    "# Convertendo os dados para um DataFrame do Pandas\n",
    "df = pd.DataFrame(data)\n",
    "\n",
    "# Exibindo as primeiras linhas e as colunas do DataFrame\n",
    "print(df.head())\n",
    "print(df.columns)\n",
    "\n",
    "# Salvando os dados extraídos em um arquivo CSV para análise posterior\n",
    "df.to_csv(\"match_data.csv\", index=False)\n",
    "\n",
    "print(\"Dados salvos em match_data.csv\")\n"
   ]
  }
 ],
 "metadata": {
  "kernelspec": {
   "display_name": "env",
   "language": "python",
   "name": "python3"
  },
  "language_info": {
   "codemirror_mode": {
    "name": "ipython",
    "version": 3
   },
   "file_extension": ".py",
   "mimetype": "text/x-python",
   "name": "python",
   "nbconvert_exporter": "python",
   "pygments_lexer": "ipython3",
   "version": "3.12.4"
  }
 },
 "nbformat": 4,
 "nbformat_minor": 2
}
